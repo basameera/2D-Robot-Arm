{
 "cells": [
  {
   "cell_type": "code",
   "execution_count": null,
   "metadata": {},
   "outputs": [],
   "source": [
    "import numpy as np\n",
    "import matplotlib.pyplot as plt\n",
    "import torch\n",
    "import torch.nn as nn\n",
    "import torch.nn.functional as F\n",
    "\n",
    "from tqdm import tqdm\n",
    "\n",
    "%matplotlib inline\n",
    "\n",
    "def pmin(data):\n",
    "    print(data.dtype, end=' ')\n",
    "    print(type(data), end=' ')\n",
    "    if isinstance(data, np.ndarray):\n",
    "        print(data.shape)\n",
    "    print()"
   ]
  },
  {
   "cell_type": "markdown",
   "metadata": {},
   "source": [
    "# Sine Wave Model"
   ]
  },
  {
   "cell_type": "code",
   "execution_count": 2,
   "metadata": {},
   "outputs": [
    {
     "name": "stdout",
     "output_type": "stream",
     "text": [
      "cpu\n",
      "Model's state_dict:\n",
      "fc1.weight \t torch.Size([300, 1])\n",
      "fc1.bias \t torch.Size([300])\n",
      "fc2.weight \t torch.Size([300, 300])\n",
      "fc2.bias \t torch.Size([300])\n",
      "fc4.weight \t torch.Size([300, 300])\n",
      "fc4.bias \t torch.Size([300])\n",
      "fc3.weight \t torch.Size([1, 300])\n",
      "fc3.bias \t torch.Size([1])\n",
      "Optimizer's state_dict:\n",
      "state \t {}\n",
      "param_groups \t [{'lr': 0.0001, 'betas': (0.9, 0.999), 'eps': 1e-08, 'weight_decay': 0, 'amsgrad': False, 'params': [140566380295800, 140566380295872, 140566380295944, 140566380296016, 140566380296160, 140566380296232, 140566380296304, 140566380296376]}]\n"
     ]
    }
   ],
   "source": [
    "# https://stackoverflow.com/questions/13897316/approximating-the-sine-function-with-a-neural-network\n",
    "# N is batch size; D_in is input dimension;\n",
    "# H is hidden dimension; D_out is output dimension.\n",
    "D_in, H, D_out = 1, 300, 1\n",
    "dtype = torch.float\n",
    "device = torch.device('cuda' if torch.cuda.is_available() else 'cpu')\n",
    "\n",
    "# Define model\n",
    "class TheModelClass(nn.Module):\n",
    "    def __init__(self, D_in=1, H=10, D_out=1):\n",
    "        super(TheModelClass, self).__init__()\n",
    "        self.fc1 = nn.Linear(D_in, H)\n",
    "        self.fc2 = nn.Linear(H, H)\n",
    "        self.fc4 = nn.Linear(H, H)\n",
    "        self.fc3 = nn.Linear(H, D_out)\n",
    "\n",
    "    def forward(self, x):\n",
    "        x = F.relu(self.fc1(x))\n",
    "        x = F.relu(self.fc2(x))\n",
    "        x = F.relu(self.fc4(x))\n",
    "        x = self.fc3(x)\n",
    "        return x\n",
    "\n",
    "# Initialize model\n",
    "model = TheModelClass(D_in, H, D_out).to(device=device)\n",
    "    \n",
    "# Use the nn package to define our model and loss function.\n",
    "# model = torch.nn.Sequential(\n",
    "#     torch.nn.Linear(D_in, H),\n",
    "#     torch.nn.ReLU(),\n",
    "#     torch.nn.Linear(H, H),\n",
    "#     torch.nn.ReLU(),\n",
    "#     torch.nn.Linear(H, H),\n",
    "#     torch.nn.ReLU(),\n",
    "#     torch.nn.Linear(H, D_out),\n",
    "# )\n",
    "\n",
    "model.eval()\n",
    "\n",
    "loss_fn = torch.nn.MSELoss(reduction='sum')\n",
    "\n",
    "# Use the optim package to define an Optimizer that will update the weights of\n",
    "# the model for us. Here we will use Adam; the optim package contains many other\n",
    "# optimization algoriths. The first argument to the Adam constructor tells the\n",
    "# optimizer which Tensors it should update.\n",
    "learning_rate = 1e-4\n",
    "optimizer = torch.optim.Adam(model.parameters(), lr=learning_rate)\n",
    "\n",
    "loss_history = []\n",
    "\n",
    "# Print model's state_dict\n",
    "print(\"Model's state_dict:\")\n",
    "for param_tensor in model.state_dict():\n",
    "    print(param_tensor, \"\\t\", model.state_dict()[param_tensor].size())\n",
    "\n",
    "# Print optimizer's state_dict\n",
    "print(\"Optimizer's state_dict:\")\n",
    "for var_name in optimizer.state_dict():\n",
    "    print(var_name, \"\\t\", optimizer.state_dict()[var_name])"
   ]
  },
  {
   "cell_type": "code",
   "execution_count": 3,
   "metadata": {},
   "outputs": [
    {
     "name": "stderr",
     "output_type": "stream",
     "text": [
      "  2%|▏         | 857/50000 [00:19<24:51, 32.96it/s] "
     ]
    },
    {
     "ename": "KeyboardInterrupt",
     "evalue": "",
     "output_type": "error",
     "traceback": [
      "\u001b[0;31m---------------------------------------------------------------------------\u001b[0m",
      "\u001b[0;31mKeyboardInterrupt\u001b[0m                         Traceback (most recent call last)",
      "\u001b[0;32m<ipython-input-3-c8db8febb707>\u001b[0m in \u001b[0;36m<module>\u001b[0;34m\u001b[0m\n\u001b[1;32m     27\u001b[0m     \u001b[0;31m# Backward pass: compute gradient of the loss with respect to model\u001b[0m\u001b[0;34m\u001b[0m\u001b[0;34m\u001b[0m\u001b[0;34m\u001b[0m\u001b[0m\n\u001b[1;32m     28\u001b[0m     \u001b[0;31m# parameters\u001b[0m\u001b[0;34m\u001b[0m\u001b[0;34m\u001b[0m\u001b[0;34m\u001b[0m\u001b[0m\n\u001b[0;32m---> 29\u001b[0;31m     \u001b[0mloss\u001b[0m\u001b[0;34m.\u001b[0m\u001b[0mbackward\u001b[0m\u001b[0;34m(\u001b[0m\u001b[0;34m)\u001b[0m\u001b[0;34m\u001b[0m\u001b[0;34m\u001b[0m\u001b[0m\n\u001b[0m\u001b[1;32m     30\u001b[0m \u001b[0;34m\u001b[0m\u001b[0m\n\u001b[1;32m     31\u001b[0m     \u001b[0;31m# Calling the step function on an Optimizer makes an update to its\u001b[0m\u001b[0;34m\u001b[0m\u001b[0;34m\u001b[0m\u001b[0;34m\u001b[0m\u001b[0m\n",
      "\u001b[0;32m~/anaconda3/envs/NN/lib/python3.7/site-packages/torch/tensor.py\u001b[0m in \u001b[0;36mbackward\u001b[0;34m(self, gradient, retain_graph, create_graph)\u001b[0m\n\u001b[1;32m    100\u001b[0m                 \u001b[0mproducts\u001b[0m\u001b[0;34m.\u001b[0m \u001b[0mDefaults\u001b[0m \u001b[0mto\u001b[0m\u001b[0;31m \u001b[0m\u001b[0;31m`\u001b[0m\u001b[0;31m`\u001b[0m\u001b[0;32mFalse\u001b[0m\u001b[0;31m`\u001b[0m\u001b[0;31m`\u001b[0m\u001b[0;34m.\u001b[0m\u001b[0;34m\u001b[0m\u001b[0;34m\u001b[0m\u001b[0m\n\u001b[1;32m    101\u001b[0m         \"\"\"\n\u001b[0;32m--> 102\u001b[0;31m         \u001b[0mtorch\u001b[0m\u001b[0;34m.\u001b[0m\u001b[0mautograd\u001b[0m\u001b[0;34m.\u001b[0m\u001b[0mbackward\u001b[0m\u001b[0;34m(\u001b[0m\u001b[0mself\u001b[0m\u001b[0;34m,\u001b[0m \u001b[0mgradient\u001b[0m\u001b[0;34m,\u001b[0m \u001b[0mretain_graph\u001b[0m\u001b[0;34m,\u001b[0m \u001b[0mcreate_graph\u001b[0m\u001b[0;34m)\u001b[0m\u001b[0;34m\u001b[0m\u001b[0;34m\u001b[0m\u001b[0m\n\u001b[0m\u001b[1;32m    103\u001b[0m \u001b[0;34m\u001b[0m\u001b[0m\n\u001b[1;32m    104\u001b[0m     \u001b[0;32mdef\u001b[0m \u001b[0mregister_hook\u001b[0m\u001b[0;34m(\u001b[0m\u001b[0mself\u001b[0m\u001b[0;34m,\u001b[0m \u001b[0mhook\u001b[0m\u001b[0;34m)\u001b[0m\u001b[0;34m:\u001b[0m\u001b[0;34m\u001b[0m\u001b[0;34m\u001b[0m\u001b[0m\n",
      "\u001b[0;32m~/anaconda3/envs/NN/lib/python3.7/site-packages/torch/autograd/__init__.py\u001b[0m in \u001b[0;36mbackward\u001b[0;34m(tensors, grad_tensors, retain_graph, create_graph, grad_variables)\u001b[0m\n\u001b[1;32m     88\u001b[0m     Variable._execution_engine.run_backward(\n\u001b[1;32m     89\u001b[0m         \u001b[0mtensors\u001b[0m\u001b[0;34m,\u001b[0m \u001b[0mgrad_tensors\u001b[0m\u001b[0;34m,\u001b[0m \u001b[0mretain_graph\u001b[0m\u001b[0;34m,\u001b[0m \u001b[0mcreate_graph\u001b[0m\u001b[0;34m,\u001b[0m\u001b[0;34m\u001b[0m\u001b[0;34m\u001b[0m\u001b[0m\n\u001b[0;32m---> 90\u001b[0;31m         allow_unreachable=True)  # allow_unreachable flag\n\u001b[0m\u001b[1;32m     91\u001b[0m \u001b[0;34m\u001b[0m\u001b[0m\n\u001b[1;32m     92\u001b[0m \u001b[0;34m\u001b[0m\u001b[0m\n",
      "\u001b[0;31mKeyboardInterrupt\u001b[0m: "
     ]
    }
   ],
   "source": [
    "# for t in range(25000):\n",
    "for t in tqdm(range(50000)):\n",
    "    # gen random data\n",
    "    Xin = np.random.randint(360*3, size=1000).reshape(1000,1)\n",
    "    Yout = np.sin(np.deg2rad(Xin))\n",
    "    \n",
    "    x = torch.tensor(Xin, dtype=dtype, device=device)\n",
    "\n",
    "    y = torch.tensor(Yout, dtype=dtype, device=device)\n",
    "#     print(np.min(y.cpu().numpy()))\n",
    "    # Forward pass: compute predicted y by passing x to the model.\n",
    "    y_pred = model(x)\n",
    "\n",
    "    # Compute and print loss.\n",
    "    loss = loss_fn(y_pred, y)\n",
    "#     if t%1000==0:\n",
    "#         print(t, loss.item())\n",
    "    loss_history.append(loss.item())\n",
    "\n",
    "    # Before the backward pass, use the optimizer object to zero all of the\n",
    "    # gradients for the variables it will update (which are the learnable\n",
    "    # weights of the model). This is because by default, gradients are\n",
    "    # accumulated in buffers( i.e, not overwritten) whenever .backward()\n",
    "    # is called. Checkout docs of torch.autograd.backward for more details.\n",
    "    optimizer.zero_grad()\n",
    "\n",
    "    # Backward pass: compute gradient of the loss with respect to model\n",
    "    # parameters\n",
    "    loss.backward()\n",
    "\n",
    "    # Calling the step function on an Optimizer makes an update to its\n",
    "    # parameters\n",
    "    optimizer.step()\n",
    "\n",
    "plt.plot(loss_history)"
   ]
  },
  {
   "cell_type": "code",
   "execution_count": 9,
   "metadata": {
    "scrolled": true
   },
   "outputs": [
    {
     "name": "stdout",
     "output_type": "stream",
     "text": [
      "torch.Size([1000, 1])\n"
     ]
    },
    {
     "data": {
      "text/plain": [
       "<matplotlib.collections.PathCollection at 0x7fafc8ffde48>"
      ]
     },
     "execution_count": 9,
     "metadata": {},
     "output_type": "execute_result"
    },
    {
     "data": {
      "image/png": "[encoded data removed]",
      "text/plain": [
       "<Figure size 432x288 with 1 Axes>"
      ]
     },
     "metadata": {
      "needs_background": "light"
     },
     "output_type": "display_data"
    }
   ],
   "source": [
    "X_test = np.random.randint(360*3, size=1000).reshape(1000,1)\n",
    "Y_test = np.sin(np.deg2rad(X_test))\n",
    "y_pred = model(torch.tensor(X_test, dtype=dtype, device=device))\n",
    "print(y_pred.shape)\n",
    "\n",
    "plt.scatter(X_test, Y_test)\n",
    "plt.scatter(X_test, y_pred.cpu().data)"
   ]
  },
  {
   "cell_type": "code",
   "execution_count": 13,
   "metadata": {},
   "outputs": [],
   "source": [
    "# save model\n",
    "torch.save(model.state_dict(), 'sinNN')\n",
    "\n",
    "#https://pytorch.org/tutorials/beginner/saving_loading_models.html"
   ]
  },
  {
   "cell_type": "code",
   "execution_count": 6,
   "metadata": {},
   "outputs": [
    {
     "data": {
      "text/plain": [
       "TheModelClass(\n",
       "  (fc1): Linear(in_features=1, out_features=300, bias=True)\n",
       "  (fc2): Linear(in_features=300, out_features=300, bias=True)\n",
       "  (fc4): Linear(in_features=300, out_features=300, bias=True)\n",
       "  (fc3): Linear(in_features=300, out_features=1, bias=True)\n",
       ")"
      ]
     },
     "execution_count": 6,
     "metadata": {},
     "output_type": "execute_result"
    }
   ],
   "source": [
    "# load model\n",
    "model_sin = TheModelClass(D_in, H, D_out).to(device=device)\n",
    "\n",
    "# model_P = TheModelClass(*args, **kwargs)\n",
    "model_sin.load_state_dict(torch.load('sinNN'))\n",
    "model_sin.eval()"
   ]
  },
  {
   "cell_type": "code",
   "execution_count": 7,
   "metadata": {},
   "outputs": [
    {
     "name": "stdout",
     "output_type": "stream",
     "text": [
      "torch.Size([1000, 1])\n"
     ]
    },
    {
     "data": {
      "text/plain": [
       "<matplotlib.collections.PathCollection at 0x7f7855769f60>"
      ]
     },
     "execution_count": 7,
     "metadata": {},
     "output_type": "execute_result"
    },
    {
     "data": {
      "image/png": "[encoded data removed]",
      "text/plain": [
       "<Figure size 432x288 with 1 Axes>"
      ]
     },
     "metadata": {
      "needs_background": "light"
     },
     "output_type": "display_data"
    }
   ],
   "source": [
    "X_test = np.random.randint(360, size=1000).reshape(1000,1)\n",
    "Y_test = np.sin(np.deg2rad(X_test))\n",
    "y_pred = model_sin(torch.tensor(X_test, dtype=dtype, device=device))\n",
    "print(y_pred.shape)\n",
    "\n",
    "# for n in range(X_test.shape[0]):\n",
    "#     print(n, X_test[n], Y_test[n, 0], y_pred[n].item())\n",
    "\n",
    "plt.scatter(X_test, Y_test)\n",
    "plt.scatter(X_test, y_pred.cpu().data)"
   ]
  },
  {
   "cell_type": "markdown",
   "metadata": {},
   "source": [
    "# Cos Model"
   ]
  },
  {
   "cell_type": "code",
   "execution_count": 15,
   "metadata": {},
   "outputs": [
    {
     "name": "stdout",
     "output_type": "stream",
     "text": [
      "Model's state_dict:\n",
      "fc1.weight \t torch.Size([300, 1])\n",
      "fc1.bias \t torch.Size([300])\n",
      "fc2.weight \t torch.Size([300, 300])\n",
      "fc2.bias \t torch.Size([300])\n",
      "fc4.weight \t torch.Size([300, 300])\n",
      "fc4.bias \t torch.Size([300])\n",
      "fc3.weight \t torch.Size([1, 300])\n",
      "fc3.bias \t torch.Size([1])\n",
      "Optimizer's state_dict:\n",
      "state \t {}\n",
      "param_groups \t [{'lr': 0.0001, 'betas': (0.9, 0.999), 'eps': 1e-08, 'weight_decay': 0, 'amsgrad': False, 'params': [140154804983704, 140154804983848, 140154804982264, 140154804983992, 140154804983416, 140154804983560, 140154804983272, 140154804982048]}]\n"
     ]
    }
   ],
   "source": [
    "# N is batch size; D_in is input dimension;\n",
    "# H is hidden dimension; D_out is output dimension.\n",
    "D_in, H, D_out = 1, 300, 1\n",
    "dtype = torch.float\n",
    "device = torch.device('cuda:0')\n",
    "\n",
    "# Define model\n",
    "class TheModelClass(nn.Module):\n",
    "    def __init__(self, D_in=1, H=10, D_out=1):\n",
    "        super(TheModelClass, self).__init__()\n",
    "        self.fc1 = nn.Linear(D_in, H)\n",
    "        self.fc2 = nn.Linear(H, H)\n",
    "        self.fc4 = nn.Linear(H, H)\n",
    "        self.fc3 = nn.Linear(H, D_out)\n",
    "\n",
    "    def forward(self, x):\n",
    "        x = F.relu(self.fc1(x))\n",
    "        x = F.relu(self.fc2(x))\n",
    "        x = F.relu(self.fc4(x))\n",
    "        x = self.fc3(x)\n",
    "        return x\n",
    "\n",
    "# Initialize model\n",
    "model = TheModelClass(D_in, H, D_out).to(device=device)\n",
    "model.eval()\n",
    "loss_fn = torch.nn.MSELoss(reduction='sum')\n",
    "\n",
    "learning_rate = 1e-4\n",
    "optimizer = torch.optim.Adam(model.parameters(), lr=learning_rate)\n",
    "\n",
    "loss_history = []\n",
    "\n",
    "# Print model's state_dict\n",
    "print(\"Model's state_dict:\")\n",
    "for param_tensor in model.state_dict():\n",
    "    print(param_tensor, \"\\t\", model.state_dict()[param_tensor].size())\n",
    "\n",
    "# Print optimizer's state_dict\n",
    "print(\"Optimizer's state_dict:\")\n",
    "for var_name in optimizer.state_dict():\n",
    "    print(var_name, \"\\t\", optimizer.state_dict()[var_name])"
   ]
  },
  {
   "cell_type": "code",
   "execution_count": 4,
   "metadata": {},
   "outputs": [
    {
     "name": "stderr",
     "output_type": "stream",
     "text": [
      "100%|██████████| 50000/50000 [02:02<00:00, 407.64it/s]\n"
     ]
    },
    {
     "data": {
      "text/plain": [
       "[<matplotlib.lines.Line2D at 0x7f06e071b390>]"
      ]
     },
     "execution_count": 4,
     "metadata": {},
     "output_type": "execute_result"
    },
    {
     "data": {
      "image/png": "[encoded data removed]",
      "text/plain": [
       "<Figure size 432x288 with 1 Axes>"
      ]
     },
     "metadata": {
      "needs_background": "light"
     },
     "output_type": "display_data"
    }
   ],
   "source": [
    "for t in tqdm(range(50000)):\n",
    "    # gen random data\n",
    "    Xin = np.random.randint(360*3, size=1000).reshape(1000,1)\n",
    "    Yout = np.cos(np.deg2rad(Xin))\n",
    "    x = torch.tensor(Xin, dtype=dtype, device=device)\n",
    "    y = torch.tensor(Yout, dtype=dtype, device=device)\n",
    "    \n",
    "    # Forward pass: compute predicted y by passing x to the model.\n",
    "    y_pred = model(x)\n",
    "\n",
    "    # Compute and print loss.\n",
    "    loss = loss_fn(y_pred, y)\n",
    "    loss_history.append(loss.item())\n",
    "\n",
    "    optimizer.zero_grad()\n",
    "\n",
    "    # Backward pass: compute gradient of the loss with respect to model\n",
    "    # parameters\n",
    "    loss.backward()\n",
    "\n",
    "    # Calling the step function on an Optimizer makes an update to its\n",
    "    # parameters\n",
    "    optimizer.step()\n",
    "\n",
    "plt.plot(loss_history)"
   ]
  },
  {
   "cell_type": "code",
   "execution_count": 5,
   "metadata": {},
   "outputs": [
    {
     "name": "stdout",
     "output_type": "stream",
     "text": [
      "torch.Size([1000, 1])\n"
     ]
    },
    {
     "data": {
      "text/plain": [
       "<matplotlib.collections.PathCollection at 0x7f06e06b8160>"
      ]
     },
     "execution_count": 5,
     "metadata": {},
     "output_type": "execute_result"
    },
    {
     "data": {
      "image/png": "[encoded data removed]",
      "text/plain": [
       "<Figure size 432x288 with 1 Axes>"
      ]
     },
     "metadata": {
      "needs_background": "light"
     },
     "output_type": "display_data"
    }
   ],
   "source": [
    "X_test = np.random.randint(360*3, size=1000).reshape(1000,1)\n",
    "Y_test = np.cos(np.deg2rad(X_test))\n",
    "y_pred = model(torch.tensor(X_test, dtype=dtype, device=device))\n",
    "print(y_pred.shape)\n",
    "\n",
    "plt.scatter(X_test, Y_test)\n",
    "plt.scatter(X_test, y_pred.cpu().data)"
   ]
  },
  {
   "cell_type": "code",
   "execution_count": 6,
   "metadata": {},
   "outputs": [],
   "source": [
    "# save model\n",
    "torch.save(model.state_dict(), 'cosNN')\n",
    "\n",
    "#https://pytorch.org/tutorials/beginner/saving_loading_models.html"
   ]
  },
  {
   "cell_type": "code",
   "execution_count": 3,
   "metadata": {},
   "outputs": [
    {
     "data": {
      "text/plain": [
       "TheModelClass(\n",
       "  (fc1): Linear(in_features=1, out_features=300, bias=True)\n",
       "  (fc2): Linear(in_features=300, out_features=300, bias=True)\n",
       "  (fc4): Linear(in_features=300, out_features=300, bias=True)\n",
       "  (fc3): Linear(in_features=300, out_features=1, bias=True)\n",
       ")"
      ]
     },
     "execution_count": 3,
     "metadata": {},
     "output_type": "execute_result"
    }
   ],
   "source": [
    "# load model\n",
    "model_cos = TheModelClass(D_in, H, D_out).to(device=device)\n",
    "\n",
    "# model_P = TheModelClass(*args, **kwargs)\n",
    "model_cos.load_state_dict(torch.load('cosNN'))\n",
    "model_cos.eval()"
   ]
  },
  {
   "cell_type": "code",
   "execution_count": 20,
   "metadata": {},
   "outputs": [
    {
     "name": "stdout",
     "output_type": "stream",
     "text": [
      "(1000, 1)\n",
      "torch.Size([1000, 1])\n"
     ]
    },
    {
     "data": {
      "text/plain": [
       "<matplotlib.collections.PathCollection at 0x7f7854e546d8>"
      ]
     },
     "execution_count": 20,
     "metadata": {},
     "output_type": "execute_result"
    },
    {
     "data": {
      "image/png": "[encoded data removed]",
      "text/plain": [
       "<Figure size 432x288 with 1 Axes>"
      ]
     },
     "metadata": {
      "needs_background": "light"
     },
     "output_type": "display_data"
    }
   ],
   "source": [
    "X_test = np.random.randint(360, size=1000).reshape(1000,1)\n",
    "print(X_test.shape)\n",
    "Y_test = np.cos(np.deg2rad(X_test))\n",
    "y_pred = model_cos(torch.tensor(X_test, dtype=dtype, device=device))\n",
    "print(y_pred.shape)\n",
    "\n",
    "# for n in range(X_test.shape[0]):\n",
    "#     print(n, X_test[n], Y_test[n, 0], y_pred[n].item())\n",
    "\n",
    "plt.scatter(X_test, Y_test)\n",
    "plt.scatter(X_test, y_pred.cpu().data)"
   ]
  },
  {
   "cell_type": "markdown",
   "metadata": {},
   "source": [
    "# Forward Kinematics"
   ]
  },
  {
   "cell_type": "code",
   "execution_count": 9,
   "metadata": {},
   "outputs": [],
   "source": [
    "def visual(point_start, point_elbow, point_end, connections = False):\n",
    "    point_start = (0, 0)\n",
    "    if connections:\n",
    "        x = np.array([point_start[0], point_elbow[0], point_end[0]])\n",
    "        y = np.array([point_start[1], point_elbow[1], point_end[1]])\n",
    "        plt.plot(x, y)\n",
    "    plt.plot(point_start[0], point_start[1], 'ko')\n",
    "    plt.plot(point_elbow[0], point_elbow[1], 'ro')\n",
    "    plt.plot(point_end[0], point_end[1], 'bo')\n",
    "    plt.xlim([-11, 11])\n",
    "    plt.ylim([-11, 11])\n",
    "    plt.title('2D Robot Arm')\n",
    "    plt.xlabel('X axis')\n",
    "    plt.ylabel('Y axis')"
   ]
  },
  {
   "cell_type": "code",
   "execution_count": 13,
   "metadata": {},
   "outputs": [],
   "source": [
    "point_start = (0, 0) #(x, y)\n",
    "point_elbow = (0, 5)\n",
    "point_hand = (0, 10)\n",
    "\n",
    "L1 = 5\n",
    "L2 = 5\n",
    "\n",
    "alpha = np.array([0, 30, 60, 90])\n",
    "beta = np.array([0, 30, 60, 90])"
   ]
  },
  {
   "cell_type": "code",
   "execution_count": 53,
   "metadata": {},
   "outputs": [
    {
     "data": {
      "image/png": "[encoded data removed]",
      "text/plain": [
       "<Figure size 432x288 with 1 Axes>"
      ]
     },
     "metadata": {
      "needs_background": "light"
     },
     "output_type": "display_data"
    }
   ],
   "source": [
    "# trigonometry\n",
    "def getHandPoint(alpha, beta, L1=1, L2=1):\n",
    "    x = L1*np.cos(np.deg2rad(alpha)) + L2*np.cos(np.deg2rad(alpha+beta))\n",
    "    y = L1*np.sin(np.deg2rad(alpha)) + L2*np.sin(np.deg2rad(alpha+beta))\n",
    "    return (x, y)\n",
    "\n",
    "def getElbowPoint(alpha, L1=1):\n",
    "    x = L1*np.cos(np.deg2rad(alpha))\n",
    "    y = L1*np.sin(np.deg2rad(alpha))\n",
    "    return (x, y)\n",
    "\n",
    "Xe, Ye = getElbowPoint(alpha, L1)\n",
    "Xh, Yh = getHandPoint(alpha, beta, L1, L2)\n",
    "\n",
    "elbow = []\n",
    "hand = []\n",
    "for n in range(Xh.shape[0]):\n",
    "    elbow.append((Xe[n], Ye[n]))\n",
    "    hand.append((Xh[n], Yh[n]))\n",
    "\n",
    "for n in range(len(elbow)):\n",
    "    visual(point_start, elbow[n], hand[n], True)"
   ]
  },
  {
   "cell_type": "code",
   "execution_count": 44,
   "metadata": {},
   "outputs": [
    {
     "name": "stdout",
     "output_type": "stream",
     "text": [
      "[[5.00000000e+00 4.33012702e+00 2.50000000e+00 3.06161700e-16]]\n",
      "[[0.         2.5        4.33012702 5.        ]]\n",
      "[[ 1.00000000e+01  6.83012702e+00  1.33226763e-15 -5.00000000e+00]]\n",
      "[[0.         6.83012702 8.66025404 5.        ]]\n"
     ]
    }
   ],
   "source": [
    "print(Xe.reshape(1, Xe.shape[0]))\n",
    "print(Ye.reshape(1, Ye.shape[0]))\n",
    "\n",
    "print(Xh.reshape(1, Xh.shape[0]))\n",
    "print(Yh.reshape(1, Yh.shape[0]))"
   ]
  },
  {
   "cell_type": "code",
   "execution_count": 54,
   "metadata": {},
   "outputs": [
    {
     "data": {
      "image/png": "[encoded data removed]",
      "text/plain": [
       "<Figure size 432x288 with 1 Axes>"
      ]
     },
     "metadata": {
      "needs_background": "light"
     },
     "output_type": "display_data"
    }
   ],
   "source": [
    "# NN\n",
    "def getHandPointNN(alpha, beta, L1=1, L2=1):\n",
    "    x = L1*model_cos(torch.tensor(alpha, dtype=dtype, device=device)) + L2*model_cos(torch.tensor(alpha+beta, dtype=dtype, device=device))\n",
    "    y = L1*model_sin(torch.tensor(alpha, dtype=dtype, device=device)) + L2*model_sin(torch.tensor(alpha+beta, dtype=dtype, device=device))\n",
    "    return (x.cpu().detach().numpy(), y.cpu().detach().numpy())\n",
    "\n",
    "def getElbowPointNN(alpha, L1=1):\n",
    "    x = L1*model_cos(torch.tensor(alpha, dtype=dtype, device=device))\n",
    "    y = L1*model_sin(torch.tensor(alpha, dtype=dtype, device=device))\n",
    "    return (x.cpu().detach().numpy(), y.cpu().detach().numpy())\n",
    "\n",
    "Xen, Yen = getElbowPointNN(alpha.reshape(alpha.shape[0],1), L1)\n",
    "Xhn, Yhn = getHandPointNN(alpha.reshape(alpha.shape[0],1), beta.reshape(alpha.shape[0],1), L1, L2)\n",
    "\n",
    "# elbow = []\n",
    "# hand = []\n",
    "for n in range(Xhn.shape[0]):\n",
    "    elbow.append((Xen[n], Yen[n]))\n",
    "    hand.append((Xhn[n], Yhn[n]))\n",
    "\n",
    "for n in range(len(elbow)):\n",
    "    visual(point_start, elbow[n], hand[n], True)"
   ]
  },
  {
   "cell_type": "code",
   "execution_count": 42,
   "metadata": {},
   "outputs": [
    {
     "name": "stdout",
     "output_type": "stream",
     "text": [
      "[[5.289333   4.4833937  2.6112306  0.07970926]]\n",
      "[[-0.20470262]\n",
      " [ 2.517624  ]\n",
      " [ 4.359717  ]\n",
      " [ 5.0438824 ]]\n",
      "[[10.578666  ]\n",
      " [ 7.0946245 ]\n",
      " [ 0.16363621]\n",
      " [-4.899085  ]]\n",
      "[[-0.40940523]\n",
      " [ 6.877341  ]\n",
      " [ 8.733971  ]\n",
      " [ 5.1212616 ]]\n"
     ]
    }
   ],
   "source": [
    "print(Xen)\n",
    "print(Yen)\n",
    "\n",
    "print(Xhn)\n",
    "print(Yhn)"
   ]
  },
  {
   "cell_type": "code",
   "execution_count": 52,
   "metadata": {},
   "outputs": [
    {
     "name": "stdout",
     "output_type": "stream",
     "text": [
      "0.20067471672693926\n"
     ]
    }
   ],
   "source": [
    "mse = np.mean((Xe - Xen.T)**2 + (Ye - Yen.T)**2 + (Xh - Xhn.T)**2 + (Yh - Yhn.T)**2)\n",
    "print(mse)"
   ]
  },
  {
   "cell_type": "markdown",
   "metadata": {},
   "source": [
    "# TrigNN Class"
   ]
  },
  {
   "cell_type": "code",
   "execution_count": 1,
   "metadata": {},
   "outputs": [],
   "source": [
    "from TrigNN import TrigModel\n",
    "import numpy as np"
   ]
  },
  {
   "cell_type": "code",
   "execution_count": 2,
   "metadata": {},
   "outputs": [],
   "source": [
    "TrigM = TrigModel()"
   ]
  },
  {
   "cell_type": "code",
   "execution_count": 3,
   "metadata": {},
   "outputs": [],
   "source": [
    "SinNN = TrigM.Sin()\n",
    "CosNN = TrigM.Cos()"
   ]
  },
  {
   "cell_type": "code",
   "execution_count": 5,
   "metadata": {},
   "outputs": [
    {
     "data": {
      "image/png": "[encoded data removed]",
      "text/plain": [
       "<Figure size 432x288 with 1 Axes>"
      ]
     },
     "metadata": {
      "needs_background": "light"
     },
     "output_type": "display_data"
    }
   ],
   "source": [
    "# temp\n",
    "import matplotlib.pyplot as plt\n",
    "\n",
    "X_test = np.random.randint(360, size=1000).reshape(1000,1)\n",
    "\n",
    "Y_cos = np.cos(np.deg2rad(X_test))\n",
    "Y_cos_pred = CosNN(TrigM.toTorchTensor(X_test))\n",
    "\n",
    "Y_sin = np.sin(np.deg2rad(X_test))\n",
    "Y_sin_pred = SinNN(TrigM.toTorchTensor(X_test))\n",
    "\n",
    "plt.scatter(X_test, Y_cos)\n",
    "plt.scatter(X_test, TrigM.toNumpy(Y_cos_pred))\n",
    "\n",
    "plt.scatter(X_test, Y_sin)\n",
    "plt.scatter(X_test, TrigM.toNumpy(Y_sin_pred))\n",
    "plt.show()"
   ]
  },
  {
   "cell_type": "code",
   "execution_count": null,
   "metadata": {},
   "outputs": [],
   "source": []
  }
 ],
 "metadata": {
  "kernelspec": {
   "display_name": "Python 3",
   "language": "python",
   "name": "python3"
  },
  "language_info": {
   "codemirror_mode": {
    "name": "ipython",
    "version": 3
   },
   "file_extension": ".py",
   "mimetype": "text/x-python",
   "name": "python",
   "nbconvert_exporter": "python",
   "pygments_lexer": "ipython3",
   "version": "3.7.2"
  }
 },
 "nbformat": 4,
 "nbformat_minor": 2
}
