{
 "cells": [
  {
   "cell_type": "code",
   "execution_count": 2,
   "metadata": {},
   "outputs": [],
   "source": [
    "import numpy as np\n",
    "import matplotlib.pyplot as plt\n",
    "import torch\n",
    "import torch.nn as nn\n",
    "import torch.nn.functional as F\n",
    "\n",
    "from tqdm import tqdm\n",
    "\n",
    "%matplotlib inline\n",
    "\n",
    "def pmin(data):\n",
    "    print(data.dtype, end=' ')\n",
    "    print(type(data), end=' ')\n",
    "    if isinstance(data, np.ndarray):\n",
    "        print(data.shape)\n",
    "    print()"
   ]
  },
  {
   "cell_type": "markdown",
   "metadata": {},
   "source": [
    "# Sine Wave Model"
   ]
  },
  {
   "cell_type": "code",
   "execution_count": 3,
   "metadata": {},
   "outputs": [
    {
     "name": "stdout",
     "output_type": "stream",
     "text": [
      "Model's state_dict:\n",
      "fc1.weight \t torch.Size([300, 1])\n",
      "fc1.bias \t torch.Size([300])\n",
      "fc2.weight \t torch.Size([300, 300])\n",
      "fc2.bias \t torch.Size([300])\n",
      "fc4.weight \t torch.Size([300, 300])\n",
      "fc4.bias \t torch.Size([300])\n",
      "fc3.weight \t torch.Size([1, 300])\n",
      "fc3.bias \t torch.Size([1])\n",
      "Optimizer's state_dict:\n",
      "state \t {}\n",
      "param_groups \t [{'lr': 0.0001, 'betas': (0.9, 0.999), 'eps': 1e-08, 'weight_decay': 0, 'amsgrad': False, 'params': [140392968253160, 140392976654840, 140392968253304, 140392968253376, 140392968310928, 140392968311000, 140392968311072, 140392968311144]}]\n"
     ]
    }
   ],
   "source": [
    "# https://stackoverflow.com/questions/13897316/approximating-the-sine-function-with-a-neural-network\n",
    "# N is batch size; D_in is input dimension;\n",
    "# H is hidden dimension; D_out is output dimension.\n",
    "D_in, H, D_out = 1, 300, 1\n",
    "dtype = torch.float\n",
    "device = torch.device('cuda:0')\n",
    "\n",
    "# Define model\n",
    "class TheModelClass(nn.Module):\n",
    "    def __init__(self, D_in=1, H=10, D_out=1):\n",
    "        super(TheModelClass, self).__init__()\n",
    "        self.fc1 = nn.Linear(D_in, H)\n",
    "        self.fc2 = nn.Linear(H, H)\n",
    "        self.fc4 = nn.Linear(H, H)\n",
    "        self.fc3 = nn.Linear(H, D_out)\n",
    "\n",
    "    def forward(self, x):\n",
    "        x = F.relu(self.fc1(x))\n",
    "        x = F.relu(self.fc2(x))\n",
    "        x = F.relu(self.fc4(x))\n",
    "        x = self.fc3(x)\n",
    "        return x\n",
    "\n",
    "# Initialize model\n",
    "model = TheModelClass(D_in, H, D_out).to(device=device)\n",
    "    \n",
    "# Use the nn package to define our model and loss function.\n",
    "# model = torch.nn.Sequential(\n",
    "#     torch.nn.Linear(D_in, H),\n",
    "#     torch.nn.ReLU(),\n",
    "#     torch.nn.Linear(H, H),\n",
    "#     torch.nn.ReLU(),\n",
    "#     torch.nn.Linear(H, H),\n",
    "#     torch.nn.ReLU(),\n",
    "#     torch.nn.Linear(H, D_out),\n",
    "# )\n",
    "\n",
    "model.eval()\n",
    "\n",
    "loss_fn = torch.nn.MSELoss(reduction='sum')\n",
    "\n",
    "# Use the optim package to define an Optimizer that will update the weights of\n",
    "# the model for us. Here we will use Adam; the optim package contains many other\n",
    "# optimization algoriths. The first argument to the Adam constructor tells the\n",
    "# optimizer which Tensors it should update.\n",
    "learning_rate = 1e-4\n",
    "optimizer = torch.optim.Adam(model.parameters(), lr=learning_rate)\n",
    "\n",
    "loss_history = []\n",
    "\n",
    "# Print model's state_dict\n",
    "print(\"Model's state_dict:\")\n",
    "for param_tensor in model.state_dict():\n",
    "    print(param_tensor, \"\\t\", model.state_dict()[param_tensor].size())\n",
    "\n",
    "# Print optimizer's state_dict\n",
    "print(\"Optimizer's state_dict:\")\n",
    "for var_name in optimizer.state_dict():\n",
    "    print(var_name, \"\\t\", optimizer.state_dict()[var_name])"
   ]
  },
  {
   "cell_type": "code",
   "execution_count": 4,
   "metadata": {},
   "outputs": [
    {
     "name": "stderr",
     "output_type": "stream",
     "text": [
      "100%|██████████| 50000/50000 [01:57<00:00, 425.84it/s]\n"
     ]
    },
    {
     "data": {
      "text/plain": [
       "[<matplotlib.lines.Line2D at 0x7fafc16aa5c0>]"
      ]
     },
     "execution_count": 4,
     "metadata": {},
     "output_type": "execute_result"
    },
    {
     "data": {
      "image/png": "[encoded data removed]",
      "text/plain": [
       "<Figure size 432x288 with 1 Axes>"
      ]
     },
     "metadata": {
      "needs_background": "light"
     },
     "output_type": "display_data"
    }
   ],
   "source": [
    "# for t in range(25000):\n",
    "for t in tqdm(range(50000)):\n",
    "    # gen random data\n",
    "    Xin = np.random.randint(360*3, size=1000).reshape(1000,1)\n",
    "    Yout = np.sin(np.deg2rad(Xin))\n",
    "    \n",
    "    x = torch.tensor(Xin, dtype=dtype, device=device)\n",
    "\n",
    "    y = torch.tensor(Yout, dtype=dtype, device=device)\n",
    "#     print(np.min(y.cpu().numpy()))\n",
    "    # Forward pass: compute predicted y by passing x to the model.\n",
    "    y_pred = model(x)\n",
    "\n",
    "    # Compute and print loss.\n",
    "    loss = loss_fn(y_pred, y)\n",
    "#     if t%1000==0:\n",
    "#         print(t, loss.item())\n",
    "    loss_history.append(loss.item())\n",
    "\n",
    "    # Before the backward pass, use the optimizer object to zero all of the\n",
    "    # gradients for the variables it will update (which are the learnable\n",
    "    # weights of the model). This is because by default, gradients are\n",
    "    # accumulated in buffers( i.e, not overwritten) whenever .backward()\n",
    "    # is called. Checkout docs of torch.autograd.backward for more details.\n",
    "    optimizer.zero_grad()\n",
    "\n",
    "    # Backward pass: compute gradient of the loss with respect to model\n",
    "    # parameters\n",
    "    loss.backward()\n",
    "\n",
    "    # Calling the step function on an Optimizer makes an update to its\n",
    "    # parameters\n",
    "    optimizer.step()\n",
    "\n",
    "plt.plot(loss_history)"
   ]
  },
  {
   "cell_type": "code",
   "execution_count": 9,
   "metadata": {
    "scrolled": true
   },
   "outputs": [
    {
     "name": "stdout",
     "output_type": "stream",
     "text": [
      "torch.Size([1000, 1])\n"
     ]
    },
    {
     "data": {
      "text/plain": [
       "<matplotlib.collections.PathCollection at 0x7fafc8ffde48>"
      ]
     },
     "execution_count": 9,
     "metadata": {},
     "output_type": "execute_result"
    },
    {
     "data": {
      "image/png": "[encoded data removed]",
      "text/plain": [
       "<Figure size 432x288 with 1 Axes>"
      ]
     },
     "metadata": {
      "needs_background": "light"
     },
     "output_type": "display_data"
    }
   ],
   "source": [
    "X_test = np.random.randint(360*3, size=1000).reshape(1000,1)\n",
    "Y_test = np.sin(np.deg2rad(X_test))\n",
    "y_pred = model(torch.tensor(X_test, dtype=dtype, device=device))\n",
    "print(y_pred.shape)\n",
    "\n",
    "plt.scatter(X_test, Y_test)\n",
    "plt.scatter(X_test, y_pred.cpu().data)"
   ]
  },
  {
   "cell_type": "code",
   "execution_count": 13,
   "metadata": {},
   "outputs": [],
   "source": [
    "# save model\n",
    "torch.save(model.state_dict(), 'sinNN')\n",
    "\n",
    "#https://pytorch.org/tutorials/beginner/saving_loading_models.html"
   ]
  },
  {
   "cell_type": "code",
   "execution_count": 14,
   "metadata": {},
   "outputs": [
    {
     "data": {
      "text/plain": [
       "TheModelClass(\n",
       "  (fc1): Linear(in_features=1, out_features=300, bias=True)\n",
       "  (fc2): Linear(in_features=300, out_features=300, bias=True)\n",
       "  (fc4): Linear(in_features=300, out_features=300, bias=True)\n",
       "  (fc3): Linear(in_features=300, out_features=1, bias=True)\n",
       ")"
      ]
     },
     "execution_count": 14,
     "metadata": {},
     "output_type": "execute_result"
    }
   ],
   "source": [
    "# load model\n",
    "model_sin = TheModelClass(D_in, H, D_out).to(device=device)\n",
    "\n",
    "# model_P = TheModelClass(*args, **kwargs)\n",
    "model_sin.load_state_dict(torch.load('sinNN'))\n",
    "model_sin.eval()"
   ]
  },
  {
   "cell_type": "code",
   "execution_count": 18,
   "metadata": {},
   "outputs": [
    {
     "name": "stdout",
     "output_type": "stream",
     "text": [
      "torch.Size([1000, 1])\n"
     ]
    },
    {
     "data": {
      "text/plain": [
       "<matplotlib.collections.PathCollection at 0x7fafbb6937b8>"
      ]
     },
     "execution_count": 18,
     "metadata": {},
     "output_type": "execute_result"
    },
    {
     "data": {
      "image/png": "[encoded data removed]",
      "text/plain": [
       "<Figure size 432x288 with 1 Axes>"
      ]
     },
     "metadata": {
      "needs_background": "light"
     },
     "output_type": "display_data"
    }
   ],
   "source": [
    "X_test = np.random.randint(360, size=1000).reshape(1000,1)\n",
    "Y_test = np.sin(np.deg2rad(X_test))\n",
    "y_pred = model_sin(torch.tensor(X_test, dtype=dtype, device=device))\n",
    "print(y_pred.shape)\n",
    "\n",
    "# for n in range(X_test.shape[0]):\n",
    "#     print(n, X_test[n], Y_test[n, 0], y_pred[n].item())\n",
    "\n",
    "plt.scatter(X_test, Y_test)\n",
    "plt.scatter(X_test, y_pred.cpu().data)"
   ]
  },
  {
   "cell_type": "markdown",
   "metadata": {},
   "source": [
    "# Cos Model"
   ]
  },
  {
   "cell_type": "code",
   "execution_count": 3,
   "metadata": {},
   "outputs": [
    {
     "name": "stdout",
     "output_type": "stream",
     "text": [
      "Model's state_dict:\n",
      "fc1.weight \t torch.Size([300, 1])\n",
      "fc1.bias \t torch.Size([300])\n",
      "fc2.weight \t torch.Size([300, 300])\n",
      "fc2.bias \t torch.Size([300])\n",
      "fc4.weight \t torch.Size([300, 300])\n",
      "fc4.bias \t torch.Size([300])\n",
      "fc3.weight \t torch.Size([1, 300])\n",
      "fc3.bias \t torch.Size([1])\n",
      "Optimizer's state_dict:\n",
      "state \t {}\n",
      "param_groups \t [{'lr': 0.0001, 'betas': (0.9, 0.999), 'eps': 1e-08, 'weight_decay': 0, 'amsgrad': False, 'params': [139667639899120, 139667639899192, 139667639898976, 139667639899264, 139667639899336, 139667639899408, 139667639899480, 139667639899552]}]\n"
     ]
    }
   ],
   "source": [
    "# N is batch size; D_in is input dimension;\n",
    "# H is hidden dimension; D_out is output dimension.\n",
    "D_in, H, D_out = 1, 300, 1\n",
    "dtype = torch.float\n",
    "device = torch.device('cuda:0')\n",
    "\n",
    "# Define model\n",
    "class TheModelClass(nn.Module):\n",
    "    def __init__(self, D_in=1, H=10, D_out=1):\n",
    "        super(TheModelClass, self).__init__()\n",
    "        self.fc1 = nn.Linear(D_in, H)\n",
    "        self.fc2 = nn.Linear(H, H)\n",
    "        self.fc4 = nn.Linear(H, H)\n",
    "        self.fc3 = nn.Linear(H, D_out)\n",
    "\n",
    "    def forward(self, x):\n",
    "        x = F.relu(self.fc1(x))\n",
    "        x = F.relu(self.fc2(x))\n",
    "        x = F.relu(self.fc4(x))\n",
    "        x = self.fc3(x)\n",
    "        return x\n",
    "\n",
    "# Initialize model\n",
    "model = TheModelClass(D_in, H, D_out).to(device=device)\n",
    "model.eval()\n",
    "loss_fn = torch.nn.MSELoss(reduction='sum')\n",
    "\n",
    "learning_rate = 1e-4\n",
    "optimizer = torch.optim.Adam(model.parameters(), lr=learning_rate)\n",
    "\n",
    "loss_history = []\n",
    "\n",
    "# Print model's state_dict\n",
    "print(\"Model's state_dict:\")\n",
    "for param_tensor in model.state_dict():\n",
    "    print(param_tensor, \"\\t\", model.state_dict()[param_tensor].size())\n",
    "\n",
    "# Print optimizer's state_dict\n",
    "print(\"Optimizer's state_dict:\")\n",
    "for var_name in optimizer.state_dict():\n",
    "    print(var_name, \"\\t\", optimizer.state_dict()[var_name])"
   ]
  },
  {
   "cell_type": "code",
   "execution_count": 4,
   "metadata": {},
   "outputs": [
    {
     "name": "stderr",
     "output_type": "stream",
     "text": [
      "100%|██████████| 50000/50000 [02:02<00:00, 407.64it/s]\n"
     ]
    },
    {
     "data": {
      "text/plain": [
       "[<matplotlib.lines.Line2D at 0x7f06e071b390>]"
      ]
     },
     "execution_count": 4,
     "metadata": {},
     "output_type": "execute_result"
    },
    {
     "data": {
      "image/png": "[encoded data removed]",
      "text/plain": [
       "<Figure size 432x288 with 1 Axes>"
      ]
     },
     "metadata": {
      "needs_background": "light"
     },
     "output_type": "display_data"
    }
   ],
   "source": [
    "for t in tqdm(range(50000)):\n",
    "    # gen random data\n",
    "    Xin = np.random.randint(360*3, size=1000).reshape(1000,1)\n",
    "    Yout = np.cos(np.deg2rad(Xin))\n",
    "    x = torch.tensor(Xin, dtype=dtype, device=device)\n",
    "    y = torch.tensor(Yout, dtype=dtype, device=device)\n",
    "    \n",
    "    # Forward pass: compute predicted y by passing x to the model.\n",
    "    y_pred = model(x)\n",
    "\n",
    "    # Compute and print loss.\n",
    "    loss = loss_fn(y_pred, y)\n",
    "    loss_history.append(loss.item())\n",
    "\n",
    "    optimizer.zero_grad()\n",
    "\n",
    "    # Backward pass: compute gradient of the loss with respect to model\n",
    "    # parameters\n",
    "    loss.backward()\n",
    "\n",
    "    # Calling the step function on an Optimizer makes an update to its\n",
    "    # parameters\n",
    "    optimizer.step()\n",
    "\n",
    "plt.plot(loss_history)"
   ]
  },
  {
   "cell_type": "code",
   "execution_count": 5,
   "metadata": {},
   "outputs": [
    {
     "name": "stdout",
     "output_type": "stream",
     "text": [
      "torch.Size([1000, 1])\n"
     ]
    },
    {
     "data": {
      "text/plain": [
       "<matplotlib.collections.PathCollection at 0x7f06e06b8160>"
      ]
     },
     "execution_count": 5,
     "metadata": {},
     "output_type": "execute_result"
    },
    {
     "data": {
      "image/png": "[encoded data removed]",
      "text/plain": [
       "<Figure size 432x288 with 1 Axes>"
      ]
     },
     "metadata": {
      "needs_background": "light"
     },
     "output_type": "display_data"
    }
   ],
   "source": [
    "X_test = np.random.randint(360*3, size=1000).reshape(1000,1)\n",
    "Y_test = np.cos(np.deg2rad(X_test))\n",
    "y_pred = model(torch.tensor(X_test, dtype=dtype, device=device))\n",
    "print(y_pred.shape)\n",
    "\n",
    "plt.scatter(X_test, Y_test)\n",
    "plt.scatter(X_test, y_pred.cpu().data)"
   ]
  },
  {
   "cell_type": "code",
   "execution_count": 6,
   "metadata": {},
   "outputs": [],
   "source": [
    "# save model\n",
    "torch.save(model.state_dict(), 'cosNN')\n",
    "\n",
    "#https://pytorch.org/tutorials/beginner/saving_loading_models.html"
   ]
  },
  {
   "cell_type": "code",
   "execution_count": 9,
   "metadata": {},
   "outputs": [
    {
     "data": {
      "text/plain": [
       "TheModelClass(\n",
       "  (fc1): Linear(in_features=1, out_features=300, bias=True)\n",
       "  (fc2): Linear(in_features=300, out_features=300, bias=True)\n",
       "  (fc4): Linear(in_features=300, out_features=300, bias=True)\n",
       "  (fc3): Linear(in_features=300, out_features=1, bias=True)\n",
       ")"
      ]
     },
     "execution_count": 9,
     "metadata": {},
     "output_type": "execute_result"
    }
   ],
   "source": [
    "# load model\n",
    "model_cos = TheModelClass(D_in, H, D_out).to(device=device)\n",
    "\n",
    "# model_P = TheModelClass(*args, **kwargs)\n",
    "model_cos.load_state_dict(torch.load('cosNN'))\n",
    "model_cos.eval()"
   ]
  },
  {
   "cell_type": "code",
   "execution_count": 10,
   "metadata": {},
   "outputs": [
    {
     "name": "stdout",
     "output_type": "stream",
     "text": [
      "torch.Size([1000, 1])\n"
     ]
    },
    {
     "data": {
      "text/plain": [
       "<matplotlib.collections.PathCollection at 0x7f06e0587860>"
      ]
     },
     "execution_count": 10,
     "metadata": {},
     "output_type": "execute_result"
    },
    {
     "data": {
      "image/png": "[encoded data removed]",
      "text/plain": [
       "<Figure size 432x288 with 1 Axes>"
      ]
     },
     "metadata": {
      "needs_background": "light"
     },
     "output_type": "display_data"
    }
   ],
   "source": [
    "X_test = np.random.randint(360, size=1000).reshape(1000,1)\n",
    "Y_test = np.cos(np.deg2rad(X_test))\n",
    "y_pred = model_sin(torch.tensor(X_test, dtype=dtype, device=device))\n",
    "print(y_pred.shape)\n",
    "\n",
    "# for n in range(X_test.shape[0]):\n",
    "#     print(n, X_test[n], Y_test[n, 0], y_pred[n].item())\n",
    "\n",
    "plt.scatter(X_test, Y_test)\n",
    "plt.scatter(X_test, y_pred.cpu().data)"
   ]
  },
  {
   "cell_type": "code",
   "execution_count": null,
   "metadata": {},
   "outputs": [],
   "source": []
  }
 ],
 "metadata": {
  "kernelspec": {
   "display_name": "Python 3",
   "language": "python",
   "name": "python3"
  },
  "language_info": {
   "codemirror_mode": {
    "name": "ipython",
    "version": 3
   },
   "file_extension": ".py",
   "mimetype": "text/x-python",
   "name": "python",
   "nbconvert_exporter": "python",
   "pygments_lexer": "ipython3",
   "version": "3.7.2"
  }
 },
 "nbformat": 4,
 "nbformat_minor": 2
}
